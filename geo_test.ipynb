{
 "cells": [
  {
   "cell_type": "code",
   "execution_count": 1,
   "metadata": {},
   "outputs": [],
   "source": [
    "import geopandas as gpd\n",
    "import pandas as pd\n",
    "import folium\n",
    "from shapely.geometry import Point\n",
    "import matplotlib.pyplot as plt\n",
    "import matplotlib.colors as colors"
   ]
  },
  {
   "cell_type": "code",
   "execution_count": 2,
   "metadata": {},
   "outputs": [],
   "source": [
    "gdf = gpd.read_file('./Maps/mapa_energetico_abc.json')\n",
    "\n",
    "gdf['ANNUAL'] = pd.to_numeric(gdf['ANNUAL'], errors='coerce')\n",
    "gdf = gdf.dropna(subset=['ANNUAL'])"
   ]
  },
  {
   "cell_type": "code",
   "execution_count": 3,
   "metadata": {},
   "outputs": [],
   "source": [
    "fsa_lat = -23.661280\n",
    "fsa_lon = -46.554371\n",
    "\n",
    "# Criar o mapa base centrado no ponto de interesse\n",
    "m = folium.Map(location=[fsa_lat, fsa_lon], zoom_start=12, tiles='CartoDB positron')\n",
    "folium.TileLayer('OpenStreetMap', name='OpenStreetMap').add_to(m)\n",
    "\n",
    "# Criar um colormap usando matplotlib\n",
    "cmap = plt.get_cmap('OrRd')\n",
    "norm = colors.Normalize(vmin=gdf['ANNUAL'].min(), vmax=gdf['ANNUAL'].max())\n",
    "\n",
    "def style_function(feature):\n",
    "    value = feature['properties']['ANNUAL']\n",
    "    color = colors.to_hex(cmap(norm(value)))\n",
    "    return {\n",
    "        'fillColor': color,\n",
    "        'color': 'black',\n",
    "        'weight': 1,\n",
    "        'fillOpacity': 0.7,\n",
    "    }\n",
    "\n",
    "# Adicionar o GeoDataFrame ao mapa\n",
    "folium.GeoJson(\n",
    "    gdf,\n",
    "    name='Irradiação solar',\n",
    "    style_function=style_function,\n",
    "    tooltip=folium.GeoJsonTooltip(\n",
    "        fields=['ANNUAL'],\n",
    "        aliases=['Média kWh/m².dia'],\n",
    "        localize=True\n",
    "    )\n",
    ").add_to(m)\n",
    "\n",
    "# Adicionar o ponto de interesse (FSA) ao mapa\n",
    "folium.Marker(\n",
    "    location=[fsa_lat, fsa_lon],\n",
    "    popup=\"FSA\",\n",
    "    icon=folium.Icon(color='blue')\n",
    ").add_to(m)\n",
    "\n",
    "# Adicionar camada de controle\n",
    "folium.LayerControl().add_to(m)\n",
    "\n",
    "# Salvar o mapa como um arquivo HTML\n",
    "m.save('mapa_interativo.html')"
   ]
  }
 ],
 "metadata": {
  "kernelspec": {
   "display_name": "Python 3",
   "language": "python",
   "name": "python3"
  },
  "language_info": {
   "codemirror_mode": {
    "name": "ipython",
    "version": 3
   },
   "file_extension": ".py",
   "mimetype": "text/x-python",
   "name": "python",
   "nbconvert_exporter": "python",
   "pygments_lexer": "ipython3",
   "version": "3.11.9"
  }
 },
 "nbformat": 4,
 "nbformat_minor": 2
}
